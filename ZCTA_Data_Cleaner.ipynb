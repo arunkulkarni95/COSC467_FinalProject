{
 "cells": [
  {
   "cell_type": "code",
   "execution_count": 49,
   "metadata": {},
   "outputs": [
    {
     "name": "stdout",
     "output_type": "stream",
     "text": [
      "Index(['OBJECTID_1', 'ZCTA5CE10', 'FIRST_STAT', 'FIRST_GEOI', 'FIRST_CLAS',\n",
      "       'FIRST_MTFC', 'FIRST_FUNC', 'ZCTA5N', 'STATE', 'AREALAND', 'AREAWATR',\n",
      "       'POP100', 'HU100', 'NHW', 'NHB', 'NHAI', 'NHA', 'NHNH', 'NHO', 'NHT',\n",
      "       'HISP', 'PNHW', 'PNHB', 'PNHAI', 'PNHA', 'PNHNH', 'PNHO', 'PNHT',\n",
      "       'PHISP', 'POP65_', 'PCTPOP65_', 'MEDAGE', 'VACNS', 'PVACNS', 'PHOWN',\n",
      "       'PWOMORT', 'PRENT', 'PLT18SP', 'REPORT_2_P', 'REPORT_9_P'],\n",
      "      dtype='object')\n"
     ]
    }
   ],
   "source": [
    "import pandas as pd\n",
    "import geopandas as gpd\n",
    "import numpy as np\n",
    "\n",
    "zcta = pd.read_csv('Maryland_Census_Data_-_ZIP_Code_Tabulation_Areas__ZCTAs_.csv')\n",
    "zipcodes = gpd.read_file('zipcode.geojson')\n",
    "neighs = gpd.read_file('Maryland_Baltimore_City_Neighborhoods.geojson')\n",
    "mhinc = pd.read_csv('MASTER_MERGED.csv')\n",
    "covid = pd.read_csv('COVID_Cleaned_Transposed.csv')\n",
    "pops = pd.read_csv('PopsByZip.csv')\n",
    "\n",
    "sjoined = gpd.sjoin(neighs, zipcodes, how='inner',op='intersects')\n",
    "\n",
    "sjoined.to_csv('spatialJoin.csv')\n",
    "#zipCleaned = pd.read_csv('ZipData_CLEANED.csv')\n",
    "#zipsList = [21227,21207,21230,21251,21229,21237,21287,21231,21226,21206,21222,21225,21211,21208,\\\n",
    "#            21205,21218,21234,21202,21201,21213,21210,21209,21216,21236,21217,21224,21215,21212,\\\n",
    "#                21223,21214,21239,21228]\n",
    "\n",
    "print(zcta.columns)"
   ]
  },
  {
   "cell_type": "code",
   "execution_count": 50,
   "metadata": {},
   "outputs": [
    {
     "name": "stdout",
     "output_type": "stream",
     "text": [
      "     Neigh  CSA  MHINC  Pop2010  Zip Code\n",
      "1802   NaN  NaN    NaN      NaN         0\n",
      "1655   NaN  NaN    NaN      NaN         0\n",
      "1656   NaN  NaN    NaN      NaN         0\n",
      "1657   NaN  NaN    NaN      NaN         0\n",
      "1658   NaN  NaN    NaN      NaN         0\n"
     ]
    }
   ],
   "source": [
    "sjoined = sjoined[['LABEL','zipcode1']]\n",
    "sjoined = sjoined.rename(columns={'LABEL':'Neigh','zipcode1':'Zip Code'})\n",
    "mhinc = mhinc[['Neigh','CSA','MHINC','Pop2010']]\n",
    "\n",
    "merged = pd.merge_ordered(mhinc, sjoined, fill_method='none')\n",
    "#print(merged[['CSA','Pop2010']])\n",
    "merged['Zip Code']= merged['Zip Code'].fillna(0)\n",
    "merged['Zip Code'] = merged['Zip Code'].astype(int)\n",
    "merged = merged.sort_values(by=['Zip Code'])\n",
    "print(merged.head())"
   ]
  },
  {
   "cell_type": "code",
   "execution_count": 51,
   "metadata": {},
   "outputs": [],
   "source": [
    "#incomeMeans = []\n",
    "#zipsList.sort()\n",
    "\n",
    "#for zipcode in zipsList: \n",
    "#    df1 = merged[merged['Zip Code'] == zipcode]\n",
    "#    incMean = df1['MHINC'].unique().mean()\n",
    "#    incomeMeans.append(incMean)"
   ]
  },
  {
   "cell_type": "code",
   "execution_count": 52,
   "metadata": {},
   "outputs": [
    {
     "name": "stdout",
     "output_type": "stream",
     "text": [
      "     Zip Code  TotalCases  Pop2010\n",
      "0       20010           0      NaN\n",
      "1       20015           0      NaN\n",
      "2       20037           0      NaN\n",
      "3       20074           0      NaN\n",
      "4       20161           0      NaN\n",
      "..        ...         ...      ...\n",
      "511     21917         134      NaN\n",
      "512     21918         208      NaN\n",
      "513     21919         143      NaN\n",
      "514     21921        2875      NaN\n",
      "515     21930           0      NaN\n",
      "\n",
      "[516 rows x 3 columns]\n"
     ]
    }
   ],
   "source": [
    "latestCases = pd.DataFrame()\n",
    "covid = covid.sort_values(by=['Zip Code'])\n",
    "latestCases['Zip Code'] = covid['Zip Code'].astype(int)\n",
    "#latestCases['MHINC'] = incomeMeans\n",
    "#latestCases['Pop2010'] = popSums\n",
    "latestCases['TotalCases'] = covid.iloc[:,-1].astype(int)\n",
    "latestCases = pd.merge_ordered(latestCases,pops,fill_method='none')\n",
    "latestCases = latestCases.drop('Unnamed: 0',axis=1)\n",
    "print(latestCases)"
   ]
  },
  {
   "cell_type": "code",
   "execution_count": 53,
   "metadata": {},
   "outputs": [
    {
     "name": "stdout",
     "output_type": "stream",
     "text": [
      "     Zip Code   AREALAND  AREAWATR  Pop2010  HU100    NHW    NHB  NHAI   NHA  \\\n",
      "0       20601  115635266    387684    24156   8722   9785  11146   155   880   \n",
      "1       20602   35830723    352762    24955   9736   8466  13054   116   731   \n",
      "2       20603   44239637    219356    28967  10317   9625  15025    98  1446   \n",
      "3       20606    7501011   1248760      431    230    377     45     1     4   \n",
      "4       20607   54357590    448221     9802   3504   2165   6321    33   560   \n",
      "..        ...        ...       ...      ...    ...    ...    ...   ...   ...   \n",
      "463     21918   45741330   6628177     4284   1589   4096     55     6    30   \n",
      "464     21919  112736603  22553121     3467   2179   3321     43    14     8   \n",
      "465     21920    1290392         0      257    100    228     17     0     0   \n",
      "466     21921  244939298  14098236    44471  17232  36707   3953    98   673   \n",
      "467     21930    1907039    186920       94     58     67     21     0     1   \n",
      "\n",
      "     NHNH  ...  PHISP  POP65_  PCTPOP65  MEDAGE  VACNS  PVACNS  PHOWN  \\\n",
      "0      11  ...    5.3    1922       8.0    37.3    376     4.3   71.1   \n",
      "1      15  ...    6.1    1964       7.9    32.6    769     7.9   59.7   \n",
      "2      24  ...    5.5    1400       4.8    34.5    531     5.1   73.8   \n",
      "3       0  ...    0.9     108      25.1    49.1     15     6.5   49.7   \n",
      "4       3  ...    4.9     847       8.6    40.9    172     4.9   83.1   \n",
      "..    ...  ...    ...     ...       ...     ...    ...     ...    ...   \n",
      "463     2  ...    1.1     481      11.2    41.2     69     4.3   61.1   \n",
      "464     0  ...    1.2     676      19.5    47.1     84     3.9   52.7   \n",
      "465     0  ...    0.8      27      10.5    42.6      8     8.0   40.2   \n",
      "466    20  ...    4.5    4818      10.8    36.7    892     5.2   51.9   \n",
      "467     0  ...    2.1      22      23.4    50.3      8    13.8   23.9   \n",
      "\n",
      "     PWOMORT  PRENT  PLT18SP  \n",
      "0       11.2   19.9     30.4  \n",
      "1        9.0   34.4     43.6  \n",
      "2        4.7   22.6     29.9  \n",
      "3       39.3   18.1     31.2  \n",
      "4       10.3    7.4     22.1  \n",
      "..       ...    ...      ...  \n",
      "463     30.0   12.8     24.2  \n",
      "464     39.5   12.9     21.7  \n",
      "465     41.3   31.5     26.6  \n",
      "466     24.5   31.3     34.5  \n",
      "467     54.2   47.8     21.4  \n",
      "\n",
      "[468 rows x 30 columns]\n"
     ]
    }
   ],
   "source": [
    "zcta = zcta.rename(columns={'ZCTA5N':'Zip Code','POP100':'Pop2010','PCTPOP65_':'PCTPOP65'})\n",
    "zcta = zcta.iloc[:,7:38]\n",
    "zcta = zcta.drop(columns={'STATE'})\n",
    "print(zcta)"
   ]
  },
  {
   "cell_type": "code",
   "execution_count": 54,
   "metadata": {},
   "outputs": [
    {
     "name": "stdout",
     "output_type": "stream",
     "text": [
      "     Zip Code     AREALAND    AREAWATR  Pop2010    HU100      NHW      NHB  \\\n",
      "0     20601.0  115635266.0    387684.0  24156.0   8722.0   9785.0  11146.0   \n",
      "1     20602.0   35830723.0    352762.0  24955.0   9736.0   8466.0  13054.0   \n",
      "2     20603.0   44239637.0    219356.0  28967.0  10317.0   9625.0  15025.0   \n",
      "3     20606.0    7501011.0   1248760.0    431.0    230.0    377.0     45.0   \n",
      "4     20607.0   54357590.0    448221.0   9802.0   3504.0   2165.0   6321.0   \n",
      "..        ...          ...         ...      ...      ...      ...      ...   \n",
      "464   21919.0  112736603.0  22553121.0   3467.0   2179.0   3321.0     43.0   \n",
      "465   21920.0    1290392.0         0.0    257.0    100.0    228.0     17.0   \n",
      "466   21921.0  244939298.0  14098236.0  44471.0  17232.0  36707.0   3953.0   \n",
      "467   21930.0    1907039.0    186920.0     94.0     58.0     67.0     21.0   \n",
      "468   21287.0          0.0         0.0      0.0      0.0      0.0      0.0   \n",
      "\n",
      "      NHAI     NHA  NHNH  ...  PHISP  POP65_  PCTPOP65  MEDAGE  VACNS  PVACNS  \\\n",
      "0    155.0   880.0  11.0  ...    5.3  1922.0       8.0    37.3  376.0     4.3   \n",
      "1    116.0   731.0  15.0  ...    6.1  1964.0       7.9    32.6  769.0     7.9   \n",
      "2     98.0  1446.0  24.0  ...    5.5  1400.0       4.8    34.5  531.0     5.1   \n",
      "3      1.0     4.0   0.0  ...    0.9   108.0      25.1    49.1   15.0     6.5   \n",
      "4     33.0   560.0   3.0  ...    4.9   847.0       8.6    40.9  172.0     4.9   \n",
      "..     ...     ...   ...  ...    ...     ...       ...     ...    ...     ...   \n",
      "464   14.0     8.0   0.0  ...    1.2   676.0      19.5    47.1   84.0     3.9   \n",
      "465    0.0     0.0   0.0  ...    0.8    27.0      10.5    42.6    8.0     8.0   \n",
      "466   98.0   673.0  20.0  ...    4.5  4818.0      10.8    36.7  892.0     5.2   \n",
      "467    0.0     1.0   0.0  ...    2.1    22.0      23.4    50.3    8.0    13.8   \n",
      "468    0.0     0.0   0.0  ...    0.0     0.0       0.0     0.0    0.0     0.0   \n",
      "\n",
      "     PHOWN  PWOMORT  PRENT  PLT18SP  \n",
      "0     71.1     11.2   19.9     30.4  \n",
      "1     59.7      9.0   34.4     43.6  \n",
      "2     73.8      4.7   22.6     29.9  \n",
      "3     49.7     39.3   18.1     31.2  \n",
      "4     83.1     10.3    7.4     22.1  \n",
      "..     ...      ...    ...      ...  \n",
      "464   52.7     39.5   12.9     21.7  \n",
      "465   40.2     41.3   31.5     26.6  \n",
      "466   51.9     24.5   31.3     34.5  \n",
      "467   23.9     54.2   47.8     21.4  \n",
      "468    0.0      0.0    0.0      0.0  \n",
      "\n",
      "[469 rows x 30 columns]\n"
     ]
    }
   ],
   "source": [
    "#zcta = zcta[zcta['Zip Code'].isin(zipsList)]\n",
    "zcta.reset_index(drop=True,inplace=True)\n",
    "zcta = zcta.append({'Zip Code':21287,'PCTPOP65':0,'Pop2010':0},ignore_index=True)\n",
    "zcta = zcta.fillna(0)\n",
    "print(zcta)"
   ]
  },
  {
   "cell_type": "code",
   "execution_count": 55,
   "metadata": {},
   "outputs": [
    {
     "name": "stdout",
     "output_type": "stream",
     "text": [
      "     Zip Code     AREALAND    AREAWATR  Pop2010    HU100      NHW      NHB  \\\n",
      "0       20601  115635266.0    387684.0  24156.0   8722.0   9785.0  11146.0   \n",
      "1       20602   35830723.0    352762.0  24955.0   9736.0   8466.0  13054.0   \n",
      "2       20603   44239637.0    219356.0  28967.0  10317.0   9625.0  15025.0   \n",
      "3       20606    7501011.0   1248760.0    431.0    230.0    377.0     45.0   \n",
      "4       20607   54357590.0    448221.0   9802.0   3504.0   2165.0   6321.0   \n",
      "..        ...          ...         ...      ...      ...      ...      ...   \n",
      "464     21919  112736603.0  22553121.0   3467.0   2179.0   3321.0     43.0   \n",
      "465     21920    1290392.0         0.0    257.0    100.0    228.0     17.0   \n",
      "466     21921  244939298.0  14098236.0  44471.0  17232.0  36707.0   3953.0   \n",
      "467     21930    1907039.0    186920.0     94.0     58.0     67.0     21.0   \n",
      "468     21287          0.0         0.0      0.0      0.0      0.0      0.0   \n",
      "\n",
      "      NHAI     NHA  NHNH  ...  PHISP  POP65_  PCTPOP65  MEDAGE  VACNS  PVACNS  \\\n",
      "0    155.0   880.0  11.0  ...    5.3  1922.0       8.0    37.3  376.0     4.3   \n",
      "1    116.0   731.0  15.0  ...    6.1  1964.0       7.9    32.6  769.0     7.9   \n",
      "2     98.0  1446.0  24.0  ...    5.5  1400.0       4.8    34.5  531.0     5.1   \n",
      "3      1.0     4.0   0.0  ...    0.9   108.0      25.1    49.1   15.0     6.5   \n",
      "4     33.0   560.0   3.0  ...    4.9   847.0       8.6    40.9  172.0     4.9   \n",
      "..     ...     ...   ...  ...    ...     ...       ...     ...    ...     ...   \n",
      "464   14.0     8.0   0.0  ...    1.2   676.0      19.5    47.1   84.0     3.9   \n",
      "465    0.0     0.0   0.0  ...    0.8    27.0      10.5    42.6    8.0     8.0   \n",
      "466   98.0   673.0  20.0  ...    4.5  4818.0      10.8    36.7  892.0     5.2   \n",
      "467    0.0     1.0   0.0  ...    2.1    22.0      23.4    50.3    8.0    13.8   \n",
      "468    0.0     0.0   0.0  ...    0.0     0.0       0.0     0.0    0.0     0.0   \n",
      "\n",
      "     PHOWN  PWOMORT  PRENT  PLT18SP  \n",
      "0     71.1     11.2   19.9     30.4  \n",
      "1     59.7      9.0   34.4     43.6  \n",
      "2     73.8      4.7   22.6     29.9  \n",
      "3     49.7     39.3   18.1     31.2  \n",
      "4     83.1     10.3    7.4     22.1  \n",
      "..     ...      ...    ...      ...  \n",
      "464   52.7     39.5   12.9     21.7  \n",
      "465   40.2     41.3   31.5     26.6  \n",
      "466   51.9     24.5   31.3     34.5  \n",
      "467   23.9     54.2   47.8     21.4  \n",
      "468    0.0      0.0    0.0      0.0  \n",
      "\n",
      "[469 rows x 30 columns]\n"
     ]
    }
   ],
   "source": [
    "\n",
    "zcta['Zip Code'] = zcta['Zip Code'].astype(int)\n",
    "\n",
    "print(zcta)"
   ]
  },
  {
   "cell_type": "code",
   "execution_count": 56,
   "metadata": {},
   "outputs": [
    {
     "name": "stdout",
     "output_type": "stream",
     "text": [
      "     Zip Code  TotalCases  Pop2010\n",
      "0       20010           0      NaN\n",
      "1       20015           0      NaN\n",
      "2       20037           0      NaN\n",
      "3       20074           0      NaN\n",
      "4       20161           0      NaN\n",
      "..        ...         ...      ...\n",
      "511     21917         134      NaN\n",
      "512     21918         208      NaN\n",
      "513     21919         143      NaN\n",
      "514     21921        2875      NaN\n",
      "515     21930           0      NaN\n",
      "\n",
      "[516 rows x 3 columns]\n"
     ]
    }
   ],
   "source": [
    "print(latestCases)"
   ]
  },
  {
   "cell_type": "code",
   "execution_count": 57,
   "metadata": {},
   "outputs": [
    {
     "name": "stdout",
     "output_type": "stream",
     "text": [
      "     Zip Code     AREALAND    AREAWATR  Pop2010_x    HU100      NHW     NHB  \\\n",
      "0       20010          NaN         NaN        NaN      NaN      NaN     NaN   \n",
      "1       20015          NaN         NaN        NaN      NaN      NaN     NaN   \n",
      "2       20037          NaN         NaN        NaN      NaN      NaN     NaN   \n",
      "3       20074          NaN         NaN        NaN      NaN      NaN     NaN   \n",
      "4       20161          NaN         NaN        NaN      NaN      NaN     NaN   \n",
      "..        ...          ...         ...        ...      ...      ...     ...   \n",
      "531     21918   45741330.0   6628177.0     4284.0   1589.0   4096.0    55.0   \n",
      "532     21919  112736603.0  22553121.0     3467.0   2179.0   3321.0    43.0   \n",
      "533     21920    1290392.0         0.0      257.0    100.0    228.0    17.0   \n",
      "534     21921  244939298.0  14098236.0    44471.0  17232.0  36707.0  3953.0   \n",
      "535     21930    1907039.0    186920.0       94.0     58.0     67.0    21.0   \n",
      "\n",
      "     NHAI    NHA  NHNH  ...  PCTPOP65  MEDAGE  VACNS  PVACNS  PHOWN  PWOMORT  \\\n",
      "0     NaN    NaN   NaN  ...       NaN     NaN    NaN     NaN    NaN      NaN   \n",
      "1     NaN    NaN   NaN  ...       NaN     NaN    NaN     NaN    NaN      NaN   \n",
      "2     NaN    NaN   NaN  ...       NaN     NaN    NaN     NaN    NaN      NaN   \n",
      "3     NaN    NaN   NaN  ...       NaN     NaN    NaN     NaN    NaN      NaN   \n",
      "4     NaN    NaN   NaN  ...       NaN     NaN    NaN     NaN    NaN      NaN   \n",
      "..    ...    ...   ...  ...       ...     ...    ...     ...    ...      ...   \n",
      "531   6.0   30.0   2.0  ...      11.2    41.2   69.0     4.3   61.1     30.0   \n",
      "532  14.0    8.0   0.0  ...      19.5    47.1   84.0     3.9   52.7     39.5   \n",
      "533   0.0    0.0   0.0  ...      10.5    42.6    8.0     8.0   40.2     41.3   \n",
      "534  98.0  673.0  20.0  ...      10.8    36.7  892.0     5.2   51.9     24.5   \n",
      "535   0.0    1.0   0.0  ...      23.4    50.3    8.0    13.8   23.9     54.2   \n",
      "\n",
      "     PRENT  PLT18SP  TotalCases  Pop2010_y  \n",
      "0      NaN      NaN         0.0        NaN  \n",
      "1      NaN      NaN         0.0        NaN  \n",
      "2      NaN      NaN         0.0        NaN  \n",
      "3      NaN      NaN         0.0        NaN  \n",
      "4      NaN      NaN         0.0        NaN  \n",
      "..     ...      ...         ...        ...  \n",
      "531   12.8     24.2       208.0        NaN  \n",
      "532   12.9     21.7       143.0        NaN  \n",
      "533   31.5     26.6         NaN        NaN  \n",
      "534   31.3     34.5      2875.0        NaN  \n",
      "535   47.8     21.4         0.0        NaN  \n",
      "\n",
      "[536 rows x 32 columns]\n"
     ]
    }
   ],
   "source": [
    "zipData = pd.merge_ordered(zcta,latestCases,on='Zip Code',fill_method='none')\n",
    "print(zipData)"
   ]
  },
  {
   "cell_type": "code",
   "execution_count": 58,
   "metadata": {},
   "outputs": [],
   "source": [
    "zipData.to_csv('ZipData_CLEANED.csv')"
   ]
  },
  {
   "cell_type": "code",
   "execution_count": null,
   "metadata": {},
   "outputs": [],
   "source": []
  }
 ],
 "metadata": {
  "kernelspec": {
   "display_name": "Python 3",
   "language": "python",
   "name": "python3"
  },
  "language_info": {
   "codemirror_mode": {
    "name": "ipython",
    "version": 3
   },
   "file_extension": ".py",
   "mimetype": "text/x-python",
   "name": "python",
   "nbconvert_exporter": "python",
   "pygments_lexer": "ipython3",
   "version": "3.8.5"
  }
 },
 "nbformat": 4,
 "nbformat_minor": 4
}
