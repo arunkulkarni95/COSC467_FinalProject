{
 "cells": [
  {
   "cell_type": "code",
   "execution_count": 14,
   "metadata": {},
   "outputs": [],
   "source": [
    "import pandas as pd\n",
    "import matplotlib.pyplot as plt\n",
    "import seaborn as sns\n",
    "from sklearn.neighbors import KNeighborsClassifier\n",
    "from sklearn.model_selection import train_test_split\n",
    "import numpy as np\n",
    "from scipy import stats\n",
    "from sklearn.cluster import KMeans\n",
    "from sklearn import preprocessing\n",
    "\n",
    "df = pd.read_csv('ZipData_CLEANED.csv')"
   ]
  },
  {
   "cell_type": "markdown",
   "metadata": {},
   "source": [
    "## K-Means clustering (binning) of COVID-19 total cases"
   ]
  },
  {
   "cell_type": "markdown",
   "metadata": {},
   "source": [
    "find optimal k"
   ]
  },
  {
   "cell_type": "code",
   "execution_count": 15,
   "metadata": {},
   "outputs": [],
   "source": [
    "cases = df['TotalCases']\n",
    "\n",
    "Sum_of_squared_distances = []\n",
    "K = range(1,15)\n",
    "for k in K:\n",
    "    km = KMeans(n_clusters=k)\n",
    "    km = km.fit(cases.to_numpy().reshape(-1,1))\n",
    "    Sum_of_squared_distances.append(km.inertia_)"
   ]
  },
  {
   "cell_type": "code",
   "execution_count": 16,
   "metadata": {},
   "outputs": [
    {
     "data": {
      "image/png": "[encoded data removed]",
      "text/plain": [
       "<Figure size 432x288 with 1 Axes>"
      ]
     },
     "metadata": {
      "needs_background": "light"
     },
     "output_type": "display_data"
    }
   ],
   "source": [
    "plt.plot(K, Sum_of_squared_distances, 'bx-')\n",
    "plt.xlabel('k')\n",
    "plt.ylabel('Sum_of_squared_distances')\n",
    "plt.title('Elbow Method For Optimal k')\n",
    "plt.show()"
   ]
  },
  {
   "cell_type": "markdown",
   "metadata": {},
   "source": [
    "the elbow is at 3, so 3 clusters is optimal"
   ]
  },
  {
   "cell_type": "code",
   "execution_count": 17,
   "metadata": {},
   "outputs": [
    {
     "data": {
      "text/plain": [
       "array([0, 0, 0, 1, 1, 1, 1, 1, 1, 1, 1, 1, 1, 1, 1, 1, 1, 1, 1, 1, 1, 1,\n",
       "       1, 1, 1, 1, 1, 1, 1, 1, 1, 1, 1, 1, 0, 1, 1, 1, 1, 1, 1, 1, 1, 1,\n",
       "       1, 1, 1, 1, 1, 1, 1, 1, 1, 1, 1, 1, 1, 1, 0, 2, 2, 0, 1, 1, 1, 1,\n",
       "       0, 0, 0, 0, 1, 0, 0, 1, 1, 2, 1, 0, 0, 1, 2, 2, 0, 0, 2, 2, 1, 1,\n",
       "       1, 1, 1, 1, 1, 1, 1, 1, 0, 2, 2, 1, 1, 1, 1, 0, 2, 2, 2, 2, 0, 1,\n",
       "       0, 1, 1, 0, 1, 0, 1, 1, 1, 1, 1, 1, 0, 1, 0, 0, 0, 1, 1, 1, 1, 0,\n",
       "       1, 0, 1, 2, 0, 2, 0, 0, 1, 0, 1, 1, 1, 0, 2, 0, 2, 1, 2, 0, 0, 0,\n",
       "       1, 0, 1, 0, 1, 0, 0, 1, 1, 1, 0, 1, 1, 1, 1, 1, 0, 0, 0, 0, 0, 0,\n",
       "       1, 1, 1, 1, 1, 1, 1, 1, 1, 1, 0, 2, 1, 1, 0, 0, 1, 1, 1, 1, 1, 1,\n",
       "       1, 0, 1, 1, 1, 1, 0, 0, 2, 1, 2, 1, 1, 1, 0, 0, 1, 0, 0, 1, 1, 1,\n",
       "       1, 1, 0, 1, 1, 1, 1, 1, 0, 0, 0, 0, 2, 2, 0, 0, 1, 1, 0, 0, 0, 2,\n",
       "       0, 0, 0, 1, 2, 2, 2, 0, 2, 0, 1, 0, 2, 2, 0, 1, 2, 0, 0, 0, 1, 2,\n",
       "       1, 1, 1, 0, 1, 0, 1, 0, 1, 1, 2, 1, 1, 1, 1, 1, 1, 1, 0, 1, 1, 1,\n",
       "       1, 1, 1, 1, 1, 1, 1, 1, 0, 1, 1, 1, 0, 1, 1, 1, 1, 1, 1, 1, 1, 1,\n",
       "       1, 1, 1, 1, 1, 1, 1, 1, 1, 1, 1, 1, 1, 1, 1, 1, 1, 1, 1, 1, 1, 1,\n",
       "       1, 1, 1, 1, 1, 1, 1, 1, 1, 1, 1, 1, 1, 1, 1, 1, 1, 1, 0, 2, 2, 1,\n",
       "       1, 1, 1, 1, 1, 1, 1, 1, 1, 1, 1, 1, 1, 1, 1, 2, 0, 1, 1, 1, 1, 1,\n",
       "       1, 1, 1, 1, 1, 1, 1, 0, 1, 1, 1, 1, 1, 1, 1, 1, 1, 0, 1, 1, 1, 1,\n",
       "       1, 1, 1, 1, 1, 0, 1, 0, 0, 1, 1, 1, 1, 1, 1, 1, 1, 1, 1, 1, 1, 1,\n",
       "       1, 1, 1, 1, 1, 1, 1, 1, 1, 1, 1, 1, 1, 1, 1, 1, 1, 1, 1, 1, 1, 1,\n",
       "       1, 1, 1, 1, 1, 1, 1, 0, 1])"
      ]
     },
     "execution_count": 17,
     "metadata": {},
     "output_type": "execute_result"
    }
   ],
   "source": [
    "model = KMeans(n_clusters=3)\n",
    "model.fit(cases.to_numpy().reshape(-1,1))\n",
    "model.labels_"
   ]
  },
  {
   "cell_type": "code",
   "execution_count": 18,
   "metadata": {},
   "outputs": [
    {
     "data": {
      "text/plain": [
       "array([[2127.92473118],\n",
       "       [ 280.946875  ],\n",
       "       [4250.75      ]])"
      ]
     },
     "execution_count": 18,
     "metadata": {},
     "output_type": "execute_result"
    }
   ],
   "source": [
    "model.cluster_centers_"
   ]
  },
  {
   "cell_type": "markdown",
   "metadata": {},
   "source": [
    "## Convert from numeric to string literal labels to avoid bias"
   ]
  },
  {
   "cell_type": "code",
   "execution_count": 19,
   "metadata": {},
   "outputs": [],
   "source": [
    "labels = []\n",
    "\n",
    "for x in model.labels_:\n",
    "    if x == 0:\n",
    "        labels.append('Cluster0')\n",
    "    elif x == 1:\n",
    "        labels.append('Cluster1')\n",
    "    elif x == 2:\n",
    "        labels.append('Cluster2')\n",
    "        \n",
    "df['Class'] = labels"
   ]
  },
  {
   "cell_type": "code",
   "execution_count": 20,
   "metadata": {},
   "outputs": [
    {
     "data": {
      "text/html": [
       "<div>\n",
       "<style scoped>\n",
       "    .dataframe tbody tr th:only-of-type {\n",
       "        vertical-align: middle;\n",
       "    }\n",
       "\n",
       "    .dataframe tbody tr th {\n",
       "        vertical-align: top;\n",
       "    }\n",
       "\n",
       "    .dataframe thead th {\n",
       "        text-align: right;\n",
       "    }\n",
       "</style>\n",
       "<table border=\"1\" class=\"dataframe\">\n",
       "  <thead>\n",
       "    <tr style=\"text-align: right;\">\n",
       "      <th></th>\n",
       "      <th>Zip Code</th>\n",
       "      <th>AREALAND</th>\n",
       "      <th>AREAWATR</th>\n",
       "      <th>Pop2010_x</th>\n",
       "      <th>HU100</th>\n",
       "      <th>NHW</th>\n",
       "      <th>NHB</th>\n",
       "      <th>NHAI</th>\n",
       "      <th>NHA</th>\n",
       "      <th>NHNH</th>\n",
       "      <th>...</th>\n",
       "      <th>PCTPOP65</th>\n",
       "      <th>MEDAGE</th>\n",
       "      <th>VACNS</th>\n",
       "      <th>PVACNS</th>\n",
       "      <th>PHOWN</th>\n",
       "      <th>PWOMORT</th>\n",
       "      <th>PRENT</th>\n",
       "      <th>PLT18SP</th>\n",
       "      <th>TotalCases</th>\n",
       "      <th>Class</th>\n",
       "    </tr>\n",
       "  </thead>\n",
       "  <tbody>\n",
       "    <tr>\n",
       "      <th>0</th>\n",
       "      <td>20601</td>\n",
       "      <td>115635266.0</td>\n",
       "      <td>387684.0</td>\n",
       "      <td>24156.0</td>\n",
       "      <td>8722.0</td>\n",
       "      <td>9785.0</td>\n",
       "      <td>11146.0</td>\n",
       "      <td>155.0</td>\n",
       "      <td>880.0</td>\n",
       "      <td>11.0</td>\n",
       "      <td>...</td>\n",
       "      <td>8.0</td>\n",
       "      <td>37.3</td>\n",
       "      <td>376.0</td>\n",
       "      <td>4.3</td>\n",
       "      <td>71.1</td>\n",
       "      <td>11.2</td>\n",
       "      <td>19.9</td>\n",
       "      <td>30.4</td>\n",
       "      <td>1796.0</td>\n",
       "      <td>Cluster0</td>\n",
       "    </tr>\n",
       "    <tr>\n",
       "      <th>1</th>\n",
       "      <td>20602</td>\n",
       "      <td>35830723.0</td>\n",
       "      <td>352762.0</td>\n",
       "      <td>24955.0</td>\n",
       "      <td>9736.0</td>\n",
       "      <td>8466.0</td>\n",
       "      <td>13054.0</td>\n",
       "      <td>116.0</td>\n",
       "      <td>731.0</td>\n",
       "      <td>15.0</td>\n",
       "      <td>...</td>\n",
       "      <td>7.9</td>\n",
       "      <td>32.6</td>\n",
       "      <td>769.0</td>\n",
       "      <td>7.9</td>\n",
       "      <td>59.7</td>\n",
       "      <td>9.0</td>\n",
       "      <td>34.4</td>\n",
       "      <td>43.6</td>\n",
       "      <td>1985.0</td>\n",
       "      <td>Cluster0</td>\n",
       "    </tr>\n",
       "    <tr>\n",
       "      <th>2</th>\n",
       "      <td>20603</td>\n",
       "      <td>44239637.0</td>\n",
       "      <td>219356.0</td>\n",
       "      <td>28967.0</td>\n",
       "      <td>10317.0</td>\n",
       "      <td>9625.0</td>\n",
       "      <td>15025.0</td>\n",
       "      <td>98.0</td>\n",
       "      <td>1446.0</td>\n",
       "      <td>24.0</td>\n",
       "      <td>...</td>\n",
       "      <td>4.8</td>\n",
       "      <td>34.5</td>\n",
       "      <td>531.0</td>\n",
       "      <td>5.1</td>\n",
       "      <td>73.8</td>\n",
       "      <td>4.7</td>\n",
       "      <td>22.6</td>\n",
       "      <td>29.9</td>\n",
       "      <td>2104.0</td>\n",
       "      <td>Cluster0</td>\n",
       "    </tr>\n",
       "    <tr>\n",
       "      <th>3</th>\n",
       "      <td>20606</td>\n",
       "      <td>7501011.0</td>\n",
       "      <td>1248760.0</td>\n",
       "      <td>431.0</td>\n",
       "      <td>230.0</td>\n",
       "      <td>377.0</td>\n",
       "      <td>45.0</td>\n",
       "      <td>1.0</td>\n",
       "      <td>4.0</td>\n",
       "      <td>0.0</td>\n",
       "      <td>...</td>\n",
       "      <td>25.1</td>\n",
       "      <td>49.1</td>\n",
       "      <td>15.0</td>\n",
       "      <td>6.5</td>\n",
       "      <td>49.7</td>\n",
       "      <td>39.3</td>\n",
       "      <td>18.1</td>\n",
       "      <td>31.2</td>\n",
       "      <td>12.0</td>\n",
       "      <td>Cluster1</td>\n",
       "    </tr>\n",
       "    <tr>\n",
       "      <th>4</th>\n",
       "      <td>20607</td>\n",
       "      <td>54357590.0</td>\n",
       "      <td>448221.0</td>\n",
       "      <td>9802.0</td>\n",
       "      <td>3504.0</td>\n",
       "      <td>2165.0</td>\n",
       "      <td>6321.0</td>\n",
       "      <td>33.0</td>\n",
       "      <td>560.0</td>\n",
       "      <td>3.0</td>\n",
       "      <td>...</td>\n",
       "      <td>8.6</td>\n",
       "      <td>40.9</td>\n",
       "      <td>172.0</td>\n",
       "      <td>4.9</td>\n",
       "      <td>83.1</td>\n",
       "      <td>10.3</td>\n",
       "      <td>7.4</td>\n",
       "      <td>22.1</td>\n",
       "      <td>853.0</td>\n",
       "      <td>Cluster1</td>\n",
       "    </tr>\n",
       "    <tr>\n",
       "      <th>...</th>\n",
       "      <td>...</td>\n",
       "      <td>...</td>\n",
       "      <td>...</td>\n",
       "      <td>...</td>\n",
       "      <td>...</td>\n",
       "      <td>...</td>\n",
       "      <td>...</td>\n",
       "      <td>...</td>\n",
       "      <td>...</td>\n",
       "      <td>...</td>\n",
       "      <td>...</td>\n",
       "      <td>...</td>\n",
       "      <td>...</td>\n",
       "      <td>...</td>\n",
       "      <td>...</td>\n",
       "      <td>...</td>\n",
       "      <td>...</td>\n",
       "      <td>...</td>\n",
       "      <td>...</td>\n",
       "      <td>...</td>\n",
       "      <td>...</td>\n",
       "    </tr>\n",
       "    <tr>\n",
       "      <th>444</th>\n",
       "      <td>21917</td>\n",
       "      <td>20265281.0</td>\n",
       "      <td>146369.0</td>\n",
       "      <td>2520.0</td>\n",
       "      <td>907.0</td>\n",
       "      <td>2387.0</td>\n",
       "      <td>30.0</td>\n",
       "      <td>2.0</td>\n",
       "      <td>17.0</td>\n",
       "      <td>1.0</td>\n",
       "      <td>...</td>\n",
       "      <td>12.3</td>\n",
       "      <td>42.0</td>\n",
       "      <td>39.0</td>\n",
       "      <td>4.3</td>\n",
       "      <td>68.2</td>\n",
       "      <td>22.1</td>\n",
       "      <td>12.5</td>\n",
       "      <td>16.7</td>\n",
       "      <td>134.0</td>\n",
       "      <td>Cluster1</td>\n",
       "    </tr>\n",
       "    <tr>\n",
       "      <th>445</th>\n",
       "      <td>21918</td>\n",
       "      <td>45741330.0</td>\n",
       "      <td>6628177.0</td>\n",
       "      <td>4284.0</td>\n",
       "      <td>1589.0</td>\n",
       "      <td>4096.0</td>\n",
       "      <td>55.0</td>\n",
       "      <td>6.0</td>\n",
       "      <td>30.0</td>\n",
       "      <td>2.0</td>\n",
       "      <td>...</td>\n",
       "      <td>11.2</td>\n",
       "      <td>41.2</td>\n",
       "      <td>69.0</td>\n",
       "      <td>4.3</td>\n",
       "      <td>61.1</td>\n",
       "      <td>30.0</td>\n",
       "      <td>12.8</td>\n",
       "      <td>24.2</td>\n",
       "      <td>208.0</td>\n",
       "      <td>Cluster1</td>\n",
       "    </tr>\n",
       "    <tr>\n",
       "      <th>446</th>\n",
       "      <td>21919</td>\n",
       "      <td>112736603.0</td>\n",
       "      <td>22553121.0</td>\n",
       "      <td>3467.0</td>\n",
       "      <td>2179.0</td>\n",
       "      <td>3321.0</td>\n",
       "      <td>43.0</td>\n",
       "      <td>14.0</td>\n",
       "      <td>8.0</td>\n",
       "      <td>0.0</td>\n",
       "      <td>...</td>\n",
       "      <td>19.5</td>\n",
       "      <td>47.1</td>\n",
       "      <td>84.0</td>\n",
       "      <td>3.9</td>\n",
       "      <td>52.7</td>\n",
       "      <td>39.5</td>\n",
       "      <td>12.9</td>\n",
       "      <td>21.7</td>\n",
       "      <td>143.0</td>\n",
       "      <td>Cluster1</td>\n",
       "    </tr>\n",
       "    <tr>\n",
       "      <th>447</th>\n",
       "      <td>21921</td>\n",
       "      <td>244939298.0</td>\n",
       "      <td>14098236.0</td>\n",
       "      <td>44471.0</td>\n",
       "      <td>17232.0</td>\n",
       "      <td>36707.0</td>\n",
       "      <td>3953.0</td>\n",
       "      <td>98.0</td>\n",
       "      <td>673.0</td>\n",
       "      <td>20.0</td>\n",
       "      <td>...</td>\n",
       "      <td>10.8</td>\n",
       "      <td>36.7</td>\n",
       "      <td>892.0</td>\n",
       "      <td>5.2</td>\n",
       "      <td>51.9</td>\n",
       "      <td>24.5</td>\n",
       "      <td>31.3</td>\n",
       "      <td>34.5</td>\n",
       "      <td>2875.0</td>\n",
       "      <td>Cluster0</td>\n",
       "    </tr>\n",
       "    <tr>\n",
       "      <th>448</th>\n",
       "      <td>21930</td>\n",
       "      <td>1907039.0</td>\n",
       "      <td>186920.0</td>\n",
       "      <td>94.0</td>\n",
       "      <td>58.0</td>\n",
       "      <td>67.0</td>\n",
       "      <td>21.0</td>\n",
       "      <td>0.0</td>\n",
       "      <td>1.0</td>\n",
       "      <td>0.0</td>\n",
       "      <td>...</td>\n",
       "      <td>23.4</td>\n",
       "      <td>50.3</td>\n",
       "      <td>8.0</td>\n",
       "      <td>13.8</td>\n",
       "      <td>23.9</td>\n",
       "      <td>54.2</td>\n",
       "      <td>47.8</td>\n",
       "      <td>21.4</td>\n",
       "      <td>0.0</td>\n",
       "      <td>Cluster1</td>\n",
       "    </tr>\n",
       "  </tbody>\n",
       "</table>\n",
       "<p>449 rows × 32 columns</p>\n",
       "</div>"
      ],
      "text/plain": [
       "     Zip Code     AREALAND    AREAWATR  Pop2010_x    HU100      NHW      NHB  \\\n",
       "0       20601  115635266.0    387684.0    24156.0   8722.0   9785.0  11146.0   \n",
       "1       20602   35830723.0    352762.0    24955.0   9736.0   8466.0  13054.0   \n",
       "2       20603   44239637.0    219356.0    28967.0  10317.0   9625.0  15025.0   \n",
       "3       20606    7501011.0   1248760.0      431.0    230.0    377.0     45.0   \n",
       "4       20607   54357590.0    448221.0     9802.0   3504.0   2165.0   6321.0   \n",
       "..        ...          ...         ...        ...      ...      ...      ...   \n",
       "444     21917   20265281.0    146369.0     2520.0    907.0   2387.0     30.0   \n",
       "445     21918   45741330.0   6628177.0     4284.0   1589.0   4096.0     55.0   \n",
       "446     21919  112736603.0  22553121.0     3467.0   2179.0   3321.0     43.0   \n",
       "447     21921  244939298.0  14098236.0    44471.0  17232.0  36707.0   3953.0   \n",
       "448     21930    1907039.0    186920.0       94.0     58.0     67.0     21.0   \n",
       "\n",
       "      NHAI     NHA  NHNH  ...  PCTPOP65  MEDAGE  VACNS  PVACNS  PHOWN  \\\n",
       "0    155.0   880.0  11.0  ...       8.0    37.3  376.0     4.3   71.1   \n",
       "1    116.0   731.0  15.0  ...       7.9    32.6  769.0     7.9   59.7   \n",
       "2     98.0  1446.0  24.0  ...       4.8    34.5  531.0     5.1   73.8   \n",
       "3      1.0     4.0   0.0  ...      25.1    49.1   15.0     6.5   49.7   \n",
       "4     33.0   560.0   3.0  ...       8.6    40.9  172.0     4.9   83.1   \n",
       "..     ...     ...   ...  ...       ...     ...    ...     ...    ...   \n",
       "444    2.0    17.0   1.0  ...      12.3    42.0   39.0     4.3   68.2   \n",
       "445    6.0    30.0   2.0  ...      11.2    41.2   69.0     4.3   61.1   \n",
       "446   14.0     8.0   0.0  ...      19.5    47.1   84.0     3.9   52.7   \n",
       "447   98.0   673.0  20.0  ...      10.8    36.7  892.0     5.2   51.9   \n",
       "448    0.0     1.0   0.0  ...      23.4    50.3    8.0    13.8   23.9   \n",
       "\n",
       "     PWOMORT  PRENT  PLT18SP  TotalCases     Class  \n",
       "0       11.2   19.9     30.4      1796.0  Cluster0  \n",
       "1        9.0   34.4     43.6      1985.0  Cluster0  \n",
       "2        4.7   22.6     29.9      2104.0  Cluster0  \n",
       "3       39.3   18.1     31.2        12.0  Cluster1  \n",
       "4       10.3    7.4     22.1       853.0  Cluster1  \n",
       "..       ...    ...      ...         ...       ...  \n",
       "444     22.1   12.5     16.7       134.0  Cluster1  \n",
       "445     30.0   12.8     24.2       208.0  Cluster1  \n",
       "446     39.5   12.9     21.7       143.0  Cluster1  \n",
       "447     24.5   31.3     34.5      2875.0  Cluster0  \n",
       "448     54.2   47.8     21.4         0.0  Cluster1  \n",
       "\n",
       "[449 rows x 32 columns]"
      ]
     },
     "execution_count": 20,
     "metadata": {},
     "output_type": "execute_result"
    }
   ],
   "source": [
    "df.drop(columns=['Unnamed: 0'], inplace=True)\n",
    "df"
   ]
  },
  {
   "cell_type": "code",
   "execution_count": 21,
   "metadata": {},
   "outputs": [],
   "source": [
    "#df.corr()"
   ]
  },
  {
   "cell_type": "markdown",
   "metadata": {},
   "source": [
    " ## Partition data into training and testing sets"
   ]
  },
  {
   "cell_type": "markdown",
   "metadata": {},
   "source": [
    "Using Pop2010_x, PNHW (pct non-hispanic white), PNHB (pct non-hispanic black), PNHAI, PNHA, PNHNH, PNHO, PNHT, PHISP, PCTPOP65 (pct population over 65), PLT18SP (pct pop under 18) to predict Class"
   ]
  },
  {
   "cell_type": "markdown",
   "metadata": {},
   "source": [
    "Use the holdout method to create training data (70% random sample) and testing data (30% random sample)"
   ]
  },
  {
   "cell_type": "code",
   "execution_count": 22,
   "metadata": {},
   "outputs": [
    {
     "data": {
      "text/html": [
       "<div>\n",
       "<style scoped>\n",
       "    .dataframe tbody tr th:only-of-type {\n",
       "        vertical-align: middle;\n",
       "    }\n",
       "\n",
       "    .dataframe tbody tr th {\n",
       "        vertical-align: top;\n",
       "    }\n",
       "\n",
       "    .dataframe thead th {\n",
       "        text-align: right;\n",
       "    }\n",
       "</style>\n",
       "<table border=\"1\" class=\"dataframe\">\n",
       "  <thead>\n",
       "    <tr style=\"text-align: right;\">\n",
       "      <th></th>\n",
       "      <th>Pop2010_x</th>\n",
       "      <th>PNHW</th>\n",
       "      <th>PNHB</th>\n",
       "      <th>PNHAI</th>\n",
       "      <th>PNHA</th>\n",
       "      <th>PNHNH</th>\n",
       "      <th>PNHO</th>\n",
       "      <th>PNHT</th>\n",
       "      <th>PHISP</th>\n",
       "      <th>PCTPOP65</th>\n",
       "      <th>PLT18SP</th>\n",
       "      <th>TotalCases</th>\n",
       "      <th>Class</th>\n",
       "    </tr>\n",
       "  </thead>\n",
       "  <tbody>\n",
       "    <tr>\n",
       "      <th>0</th>\n",
       "      <td>24156.0</td>\n",
       "      <td>40.5</td>\n",
       "      <td>46.1</td>\n",
       "      <td>0.6</td>\n",
       "      <td>3.6</td>\n",
       "      <td>0.0</td>\n",
       "      <td>0.2</td>\n",
       "      <td>3.5</td>\n",
       "      <td>5.3</td>\n",
       "      <td>8.0</td>\n",
       "      <td>30.4</td>\n",
       "      <td>1796.0</td>\n",
       "      <td>Cluster0</td>\n",
       "    </tr>\n",
       "    <tr>\n",
       "      <th>1</th>\n",
       "      <td>24955.0</td>\n",
       "      <td>33.9</td>\n",
       "      <td>52.3</td>\n",
       "      <td>0.5</td>\n",
       "      <td>2.9</td>\n",
       "      <td>0.1</td>\n",
       "      <td>0.2</td>\n",
       "      <td>4.0</td>\n",
       "      <td>6.1</td>\n",
       "      <td>7.9</td>\n",
       "      <td>43.6</td>\n",
       "      <td>1985.0</td>\n",
       "      <td>Cluster0</td>\n",
       "    </tr>\n",
       "    <tr>\n",
       "      <th>2</th>\n",
       "      <td>28967.0</td>\n",
       "      <td>33.2</td>\n",
       "      <td>51.9</td>\n",
       "      <td>0.3</td>\n",
       "      <td>5.0</td>\n",
       "      <td>0.1</td>\n",
       "      <td>0.2</td>\n",
       "      <td>3.8</td>\n",
       "      <td>5.5</td>\n",
       "      <td>4.8</td>\n",
       "      <td>29.9</td>\n",
       "      <td>2104.0</td>\n",
       "      <td>Cluster0</td>\n",
       "    </tr>\n",
       "    <tr>\n",
       "      <th>3</th>\n",
       "      <td>431.0</td>\n",
       "      <td>87.5</td>\n",
       "      <td>10.4</td>\n",
       "      <td>0.2</td>\n",
       "      <td>0.9</td>\n",
       "      <td>0.0</td>\n",
       "      <td>0.0</td>\n",
       "      <td>0.0</td>\n",
       "      <td>0.9</td>\n",
       "      <td>25.1</td>\n",
       "      <td>31.2</td>\n",
       "      <td>12.0</td>\n",
       "      <td>Cluster1</td>\n",
       "    </tr>\n",
       "    <tr>\n",
       "      <th>4</th>\n",
       "      <td>9802.0</td>\n",
       "      <td>22.1</td>\n",
       "      <td>64.5</td>\n",
       "      <td>0.3</td>\n",
       "      <td>5.7</td>\n",
       "      <td>0.0</td>\n",
       "      <td>0.1</td>\n",
       "      <td>2.4</td>\n",
       "      <td>4.9</td>\n",
       "      <td>8.6</td>\n",
       "      <td>22.1</td>\n",
       "      <td>853.0</td>\n",
       "      <td>Cluster1</td>\n",
       "    </tr>\n",
       "    <tr>\n",
       "      <th>...</th>\n",
       "      <td>...</td>\n",
       "      <td>...</td>\n",
       "      <td>...</td>\n",
       "      <td>...</td>\n",
       "      <td>...</td>\n",
       "      <td>...</td>\n",
       "      <td>...</td>\n",
       "      <td>...</td>\n",
       "      <td>...</td>\n",
       "      <td>...</td>\n",
       "      <td>...</td>\n",
       "      <td>...</td>\n",
       "      <td>...</td>\n",
       "    </tr>\n",
       "    <tr>\n",
       "      <th>444</th>\n",
       "      <td>2520.0</td>\n",
       "      <td>94.7</td>\n",
       "      <td>1.2</td>\n",
       "      <td>0.1</td>\n",
       "      <td>0.7</td>\n",
       "      <td>0.0</td>\n",
       "      <td>0.3</td>\n",
       "      <td>1.5</td>\n",
       "      <td>1.5</td>\n",
       "      <td>12.3</td>\n",
       "      <td>16.7</td>\n",
       "      <td>134.0</td>\n",
       "      <td>Cluster1</td>\n",
       "    </tr>\n",
       "    <tr>\n",
       "      <th>445</th>\n",
       "      <td>4284.0</td>\n",
       "      <td>95.6</td>\n",
       "      <td>1.3</td>\n",
       "      <td>0.1</td>\n",
       "      <td>0.7</td>\n",
       "      <td>0.0</td>\n",
       "      <td>0.1</td>\n",
       "      <td>1.1</td>\n",
       "      <td>1.1</td>\n",
       "      <td>11.2</td>\n",
       "      <td>24.2</td>\n",
       "      <td>208.0</td>\n",
       "      <td>Cluster1</td>\n",
       "    </tr>\n",
       "    <tr>\n",
       "      <th>446</th>\n",
       "      <td>3467.0</td>\n",
       "      <td>95.8</td>\n",
       "      <td>1.2</td>\n",
       "      <td>0.4</td>\n",
       "      <td>0.2</td>\n",
       "      <td>0.0</td>\n",
       "      <td>0.1</td>\n",
       "      <td>1.1</td>\n",
       "      <td>1.2</td>\n",
       "      <td>19.5</td>\n",
       "      <td>21.7</td>\n",
       "      <td>143.0</td>\n",
       "      <td>Cluster1</td>\n",
       "    </tr>\n",
       "    <tr>\n",
       "      <th>447</th>\n",
       "      <td>44471.0</td>\n",
       "      <td>82.5</td>\n",
       "      <td>8.9</td>\n",
       "      <td>0.2</td>\n",
       "      <td>1.5</td>\n",
       "      <td>0.0</td>\n",
       "      <td>0.1</td>\n",
       "      <td>2.2</td>\n",
       "      <td>4.5</td>\n",
       "      <td>10.8</td>\n",
       "      <td>34.5</td>\n",
       "      <td>2875.0</td>\n",
       "      <td>Cluster0</td>\n",
       "    </tr>\n",
       "    <tr>\n",
       "      <th>448</th>\n",
       "      <td>94.0</td>\n",
       "      <td>71.3</td>\n",
       "      <td>22.3</td>\n",
       "      <td>0.0</td>\n",
       "      <td>1.1</td>\n",
       "      <td>0.0</td>\n",
       "      <td>0.0</td>\n",
       "      <td>3.2</td>\n",
       "      <td>2.1</td>\n",
       "      <td>23.4</td>\n",
       "      <td>21.4</td>\n",
       "      <td>0.0</td>\n",
       "      <td>Cluster1</td>\n",
       "    </tr>\n",
       "  </tbody>\n",
       "</table>\n",
       "<p>449 rows × 13 columns</p>\n",
       "</div>"
      ],
      "text/plain": [
       "     Pop2010_x  PNHW  PNHB  PNHAI  PNHA  PNHNH  PNHO  PNHT  PHISP  PCTPOP65  \\\n",
       "0      24156.0  40.5  46.1    0.6   3.6    0.0   0.2   3.5    5.3       8.0   \n",
       "1      24955.0  33.9  52.3    0.5   2.9    0.1   0.2   4.0    6.1       7.9   \n",
       "2      28967.0  33.2  51.9    0.3   5.0    0.1   0.2   3.8    5.5       4.8   \n",
       "3        431.0  87.5  10.4    0.2   0.9    0.0   0.0   0.0    0.9      25.1   \n",
       "4       9802.0  22.1  64.5    0.3   5.7    0.0   0.1   2.4    4.9       8.6   \n",
       "..         ...   ...   ...    ...   ...    ...   ...   ...    ...       ...   \n",
       "444     2520.0  94.7   1.2    0.1   0.7    0.0   0.3   1.5    1.5      12.3   \n",
       "445     4284.0  95.6   1.3    0.1   0.7    0.0   0.1   1.1    1.1      11.2   \n",
       "446     3467.0  95.8   1.2    0.4   0.2    0.0   0.1   1.1    1.2      19.5   \n",
       "447    44471.0  82.5   8.9    0.2   1.5    0.0   0.1   2.2    4.5      10.8   \n",
       "448       94.0  71.3  22.3    0.0   1.1    0.0   0.0   3.2    2.1      23.4   \n",
       "\n",
       "     PLT18SP  TotalCases     Class  \n",
       "0       30.4      1796.0  Cluster0  \n",
       "1       43.6      1985.0  Cluster0  \n",
       "2       29.9      2104.0  Cluster0  \n",
       "3       31.2        12.0  Cluster1  \n",
       "4       22.1       853.0  Cluster1  \n",
       "..       ...         ...       ...  \n",
       "444     16.7       134.0  Cluster1  \n",
       "445     24.2       208.0  Cluster1  \n",
       "446     21.7       143.0  Cluster1  \n",
       "447     34.5      2875.0  Cluster0  \n",
       "448     21.4         0.0  Cluster1  \n",
       "\n",
       "[449 rows x 13 columns]"
      ]
     },
     "execution_count": 22,
     "metadata": {},
     "output_type": "execute_result"
    }
   ],
   "source": [
    "df = df[['Pop2010_x','PNHW','PNHB','PNHAI','PNHA','PNHNH','PNHO','PNHT','PHISP','PCTPOP65','PLT18SP','TotalCases','Class']]\n",
    "df"
   ]
  },
  {
   "cell_type": "markdown",
   "metadata": {},
   "source": [
    "## Min-Max Normalization of Features"
   ]
  },
  {
   "cell_type": "code",
   "execution_count": 27,
   "metadata": {},
   "outputs": [
    {
     "name": "stderr",
     "output_type": "stream",
     "text": [
      "<ipython-input-27-475019a872d0>:3: SettingWithCopyWarning: \n",
      "A value is trying to be set on a copy of a slice from a DataFrame.\n",
      "Try using .loc[row_indexer,col_indexer] = value instead\n",
      "\n",
      "See the caveats in the documentation: https://pandas.pydata.org/pandas-docs/stable/user_guide/indexing.html#returning-a-view-versus-a-copy\n",
      "  df[column] = (df[column] - df[column].min()) / (df[column].max() - df[column].min())\n"
     ]
    }
   ],
   "source": [
    "for column in df:\n",
    "    if column != 'TotalCases' and column != 'Class':\n",
    "        df[column] = (df[column] - df[column].min()) / (df[column].max() - df[column].min())"
   ]
  },
  {
   "cell_type": "code",
   "execution_count": 28,
   "metadata": {},
   "outputs": [
    {
     "data": {
      "text/html": [
       "<div>\n",
       "<style scoped>\n",
       "    .dataframe tbody tr th:only-of-type {\n",
       "        vertical-align: middle;\n",
       "    }\n",
       "\n",
       "    .dataframe tbody tr th {\n",
       "        vertical-align: top;\n",
       "    }\n",
       "\n",
       "    .dataframe thead th {\n",
       "        text-align: right;\n",
       "    }\n",
       "</style>\n",
       "<table border=\"1\" class=\"dataframe\">\n",
       "  <thead>\n",
       "    <tr style=\"text-align: right;\">\n",
       "      <th></th>\n",
       "      <th>Pop2010_x</th>\n",
       "      <th>PNHW</th>\n",
       "      <th>PNHB</th>\n",
       "      <th>PNHAI</th>\n",
       "      <th>PNHA</th>\n",
       "      <th>PNHNH</th>\n",
       "      <th>PNHO</th>\n",
       "      <th>PNHT</th>\n",
       "      <th>PHISP</th>\n",
       "      <th>PCTPOP65</th>\n",
       "      <th>PLT18SP</th>\n",
       "      <th>TotalCases</th>\n",
       "      <th>Class</th>\n",
       "    </tr>\n",
       "  </thead>\n",
       "  <tbody>\n",
       "    <tr>\n",
       "      <th>0</th>\n",
       "      <td>0.346313</td>\n",
       "      <td>0.405</td>\n",
       "      <td>0.479709</td>\n",
       "      <td>0.18750</td>\n",
       "      <td>0.101983</td>\n",
       "      <td>0.000</td>\n",
       "      <td>0.142857</td>\n",
       "      <td>0.648148</td>\n",
       "      <td>0.089226</td>\n",
       "      <td>0.160</td>\n",
       "      <td>0.373006</td>\n",
       "      <td>1796.0</td>\n",
       "      <td>Cluster0</td>\n",
       "    </tr>\n",
       "    <tr>\n",
       "      <th>1</th>\n",
       "      <td>0.357768</td>\n",
       "      <td>0.339</td>\n",
       "      <td>0.544225</td>\n",
       "      <td>0.15625</td>\n",
       "      <td>0.082153</td>\n",
       "      <td>0.125</td>\n",
       "      <td>0.142857</td>\n",
       "      <td>0.740741</td>\n",
       "      <td>0.102694</td>\n",
       "      <td>0.158</td>\n",
       "      <td>0.534969</td>\n",
       "      <td>1985.0</td>\n",
       "      <td>Cluster0</td>\n",
       "    </tr>\n",
       "    <tr>\n",
       "      <th>2</th>\n",
       "      <td>0.415286</td>\n",
       "      <td>0.332</td>\n",
       "      <td>0.540062</td>\n",
       "      <td>0.09375</td>\n",
       "      <td>0.141643</td>\n",
       "      <td>0.125</td>\n",
       "      <td>0.142857</td>\n",
       "      <td>0.703704</td>\n",
       "      <td>0.092593</td>\n",
       "      <td>0.096</td>\n",
       "      <td>0.366871</td>\n",
       "      <td>2104.0</td>\n",
       "      <td>Cluster0</td>\n",
       "    </tr>\n",
       "    <tr>\n",
       "      <th>3</th>\n",
       "      <td>0.006179</td>\n",
       "      <td>0.875</td>\n",
       "      <td>0.108221</td>\n",
       "      <td>0.06250</td>\n",
       "      <td>0.025496</td>\n",
       "      <td>0.000</td>\n",
       "      <td>0.000000</td>\n",
       "      <td>0.000000</td>\n",
       "      <td>0.015152</td>\n",
       "      <td>0.502</td>\n",
       "      <td>0.382822</td>\n",
       "      <td>12.0</td>\n",
       "      <td>Cluster1</td>\n",
       "    </tr>\n",
       "    <tr>\n",
       "      <th>4</th>\n",
       "      <td>0.140526</td>\n",
       "      <td>0.221</td>\n",
       "      <td>0.671176</td>\n",
       "      <td>0.09375</td>\n",
       "      <td>0.161473</td>\n",
       "      <td>0.000</td>\n",
       "      <td>0.071429</td>\n",
       "      <td>0.444444</td>\n",
       "      <td>0.082492</td>\n",
       "      <td>0.172</td>\n",
       "      <td>0.271166</td>\n",
       "      <td>853.0</td>\n",
       "      <td>Cluster1</td>\n",
       "    </tr>\n",
       "    <tr>\n",
       "      <th>...</th>\n",
       "      <td>...</td>\n",
       "      <td>...</td>\n",
       "      <td>...</td>\n",
       "      <td>...</td>\n",
       "      <td>...</td>\n",
       "      <td>...</td>\n",
       "      <td>...</td>\n",
       "      <td>...</td>\n",
       "      <td>...</td>\n",
       "      <td>...</td>\n",
       "      <td>...</td>\n",
       "      <td>...</td>\n",
       "      <td>...</td>\n",
       "    </tr>\n",
       "    <tr>\n",
       "      <th>444</th>\n",
       "      <td>0.036128</td>\n",
       "      <td>0.947</td>\n",
       "      <td>0.012487</td>\n",
       "      <td>0.03125</td>\n",
       "      <td>0.019830</td>\n",
       "      <td>0.000</td>\n",
       "      <td>0.214286</td>\n",
       "      <td>0.277778</td>\n",
       "      <td>0.025253</td>\n",
       "      <td>0.246</td>\n",
       "      <td>0.204908</td>\n",
       "      <td>134.0</td>\n",
       "      <td>Cluster1</td>\n",
       "    </tr>\n",
       "    <tr>\n",
       "      <th>445</th>\n",
       "      <td>0.061418</td>\n",
       "      <td>0.956</td>\n",
       "      <td>0.013528</td>\n",
       "      <td>0.03125</td>\n",
       "      <td>0.019830</td>\n",
       "      <td>0.000</td>\n",
       "      <td>0.071429</td>\n",
       "      <td>0.203704</td>\n",
       "      <td>0.018519</td>\n",
       "      <td>0.224</td>\n",
       "      <td>0.296933</td>\n",
       "      <td>208.0</td>\n",
       "      <td>Cluster1</td>\n",
       "    </tr>\n",
       "    <tr>\n",
       "      <th>446</th>\n",
       "      <td>0.049705</td>\n",
       "      <td>0.958</td>\n",
       "      <td>0.012487</td>\n",
       "      <td>0.12500</td>\n",
       "      <td>0.005666</td>\n",
       "      <td>0.000</td>\n",
       "      <td>0.071429</td>\n",
       "      <td>0.203704</td>\n",
       "      <td>0.020202</td>\n",
       "      <td>0.390</td>\n",
       "      <td>0.266258</td>\n",
       "      <td>143.0</td>\n",
       "      <td>Cluster1</td>\n",
       "    </tr>\n",
       "    <tr>\n",
       "      <th>447</th>\n",
       "      <td>0.637559</td>\n",
       "      <td>0.825</td>\n",
       "      <td>0.092612</td>\n",
       "      <td>0.06250</td>\n",
       "      <td>0.042493</td>\n",
       "      <td>0.000</td>\n",
       "      <td>0.071429</td>\n",
       "      <td>0.407407</td>\n",
       "      <td>0.075758</td>\n",
       "      <td>0.216</td>\n",
       "      <td>0.423313</td>\n",
       "      <td>2875.0</td>\n",
       "      <td>Cluster0</td>\n",
       "    </tr>\n",
       "    <tr>\n",
       "      <th>448</th>\n",
       "      <td>0.001348</td>\n",
       "      <td>0.713</td>\n",
       "      <td>0.232050</td>\n",
       "      <td>0.00000</td>\n",
       "      <td>0.031161</td>\n",
       "      <td>0.000</td>\n",
       "      <td>0.000000</td>\n",
       "      <td>0.592593</td>\n",
       "      <td>0.035354</td>\n",
       "      <td>0.468</td>\n",
       "      <td>0.262577</td>\n",
       "      <td>0.0</td>\n",
       "      <td>Cluster1</td>\n",
       "    </tr>\n",
       "  </tbody>\n",
       "</table>\n",
       "<p>449 rows × 13 columns</p>\n",
       "</div>"
      ],
      "text/plain": [
       "     Pop2010_x   PNHW      PNHB    PNHAI      PNHA  PNHNH      PNHO      PNHT  \\\n",
       "0     0.346313  0.405  0.479709  0.18750  0.101983  0.000  0.142857  0.648148   \n",
       "1     0.357768  0.339  0.544225  0.15625  0.082153  0.125  0.142857  0.740741   \n",
       "2     0.415286  0.332  0.540062  0.09375  0.141643  0.125  0.142857  0.703704   \n",
       "3     0.006179  0.875  0.108221  0.06250  0.025496  0.000  0.000000  0.000000   \n",
       "4     0.140526  0.221  0.671176  0.09375  0.161473  0.000  0.071429  0.444444   \n",
       "..         ...    ...       ...      ...       ...    ...       ...       ...   \n",
       "444   0.036128  0.947  0.012487  0.03125  0.019830  0.000  0.214286  0.277778   \n",
       "445   0.061418  0.956  0.013528  0.03125  0.019830  0.000  0.071429  0.203704   \n",
       "446   0.049705  0.958  0.012487  0.12500  0.005666  0.000  0.071429  0.203704   \n",
       "447   0.637559  0.825  0.092612  0.06250  0.042493  0.000  0.071429  0.407407   \n",
       "448   0.001348  0.713  0.232050  0.00000  0.031161  0.000  0.000000  0.592593   \n",
       "\n",
       "        PHISP  PCTPOP65   PLT18SP  TotalCases     Class  \n",
       "0    0.089226     0.160  0.373006      1796.0  Cluster0  \n",
       "1    0.102694     0.158  0.534969      1985.0  Cluster0  \n",
       "2    0.092593     0.096  0.366871      2104.0  Cluster0  \n",
       "3    0.015152     0.502  0.382822        12.0  Cluster1  \n",
       "4    0.082492     0.172  0.271166       853.0  Cluster1  \n",
       "..        ...       ...       ...         ...       ...  \n",
       "444  0.025253     0.246  0.204908       134.0  Cluster1  \n",
       "445  0.018519     0.224  0.296933       208.0  Cluster1  \n",
       "446  0.020202     0.390  0.266258       143.0  Cluster1  \n",
       "447  0.075758     0.216  0.423313      2875.0  Cluster0  \n",
       "448  0.035354     0.468  0.262577         0.0  Cluster1  \n",
       "\n",
       "[449 rows x 13 columns]"
      ]
     },
     "execution_count": 28,
     "metadata": {},
     "output_type": "execute_result"
    }
   ],
   "source": [
    "df"
   ]
  },
  {
   "cell_type": "code",
   "execution_count": 29,
   "metadata": {},
   "outputs": [],
   "source": [
    "obs = ['Pop2010_x','PNHW','PNHB','PNHAI','PNHA','PNHNH','PNHO','PNHT','PHISP','PCTPOP65','PLT18SP']\n",
    "cls = ['Class']"
   ]
  },
  {
   "cell_type": "code",
   "execution_count": 30,
   "metadata": {},
   "outputs": [],
   "source": [
    "train=df.sample(frac=0.7,random_state=1234)\n",
    "test=df.drop(train.index)"
   ]
  },
  {
   "cell_type": "code",
   "execution_count": 31,
   "metadata": {},
   "outputs": [],
   "source": [
    "trainObs = train[obs].to_numpy()\n",
    "trainCls = train[cls].to_numpy().ravel()\n",
    "testObs = test[obs].to_numpy()\n",
    "testCls = test[cls].to_numpy().ravel()"
   ]
  },
  {
   "cell_type": "markdown",
   "metadata": {},
   "source": [
    "## t-test for means of partitions"
   ]
  },
  {
   "cell_type": "code",
   "execution_count": 32,
   "metadata": {},
   "outputs": [
    {
     "name": "stdout",
     "output_type": "stream",
     "text": [
      "2010 Population: \n",
      "Ttest_indResult(statistic=-1.8532172724019333, pvalue=0.06515579641486471)\n",
      "\n",
      "\n",
      "PNHW: \n",
      "Ttest_indResult(statistic=1.723882765823225, pvalue=0.08611069730242732)\n",
      "\n",
      "\n",
      "PNHB: \n",
      "Ttest_indResult(statistic=-2.0165547775631842, pvalue=0.04501472744091531)\n",
      "\n",
      "\n",
      "PNHAI: \n",
      "Ttest_indResult(statistic=0.6812281645849748, pvalue=0.49626035510299793)\n",
      "\n",
      "\n",
      "PNHA: \n",
      "Ttest_indResult(statistic=-0.08333360481951946, pvalue=0.9336506899570705)\n",
      "\n",
      "\n",
      "PNHNH: \n",
      "Ttest_indResult(statistic=-0.44593495951416057, pvalue=0.6560531475364318)\n",
      "\n",
      "\n",
      "PNHO: \n",
      "Ttest_indResult(statistic=-1.5298356107959554, pvalue=0.12756479751967753)\n",
      "\n",
      "\n",
      "PNHT: \n",
      "Ttest_indResult(statistic=-1.1352662810263645, pvalue=0.25749081523477524)\n",
      "\n",
      "\n",
      "PHISP: \n",
      "Ttest_indResult(statistic=-0.6234542117924333, pvalue=0.5335658747355314)\n",
      "\n",
      "\n",
      "Percent Pop. Over 65: \n",
      "Ttest_indResult(statistic=-0.20142455911900006, pvalue=0.840544904337922)\n",
      "\n",
      "\n",
      "Percent Pop. Under 18: \n",
      "Ttest_indResult(statistic=-2.522053181154521, pvalue=0.012353619228948728)\n",
      "\n",
      "\n"
     ]
    }
   ],
   "source": [
    "print('2010 Population: ')\n",
    "print(stats.ttest_ind(train['Pop2010_x'],test['Pop2010_x'],equal_var=False))\n",
    "print('\\n')\n",
    "print('PNHW: ')\n",
    "print(stats.ttest_ind(train['PNHW'],test['PNHW'],equal_var=False))\n",
    "print('\\n')\n",
    "print('PNHB: ')\n",
    "print(stats.ttest_ind(train['PNHB'],test['PNHB'],equal_var=False))\n",
    "print('\\n')\n",
    "print('PNHAI: ')\n",
    "print(stats.ttest_ind(train['PNHAI'],test['PNHAI'],equal_var=False))\n",
    "print('\\n')\n",
    "print('PNHA: ')\n",
    "print(stats.ttest_ind(train['PNHA'],test['PNHA'],equal_var=False))\n",
    "print('\\n')\n",
    "print('PNHNH: ')\n",
    "print(stats.ttest_ind(train['PNHNH'],test['PNHNH'],equal_var=False))\n",
    "print('\\n')\n",
    "print('PNHO: ')\n",
    "print(stats.ttest_ind(train['PNHO'],test['PNHO'],equal_var=False))\n",
    "print('\\n')\n",
    "print('PNHT: ')\n",
    "print(stats.ttest_ind(train['PNHT'],test['PNHT'],equal_var=False))\n",
    "print('\\n')\n",
    "print('PHISP: ')\n",
    "print(stats.ttest_ind(train['PHISP'],test['PHISP'],equal_var=False))\n",
    "print('\\n')\n",
    "print('Percent Pop. Over 65: ')\n",
    "print(stats.ttest_ind(train['PCTPOP65'],test['PCTPOP65'],equal_var=False))\n",
    "print('\\n')\n",
    "print('Percent Pop. Under 18: ')\n",
    "print(stats.ttest_ind(train['PLT18SP'],test['PLT18SP'],equal_var=False))\n",
    "print('\\n')"
   ]
  },
  {
   "cell_type": "markdown",
   "metadata": {},
   "source": [
    "Using p = .05, we cannot reject the null hypothesis for all properties except Percent Pop. Under 18"
   ]
  },
  {
   "cell_type": "markdown",
   "metadata": {},
   "source": [
    "## Decision Tree Classifier"
   ]
  },
  {
   "cell_type": "markdown",
   "metadata": {},
   "source": [
    "without entropy"
   ]
  },
  {
   "cell_type": "code",
   "execution_count": 33,
   "metadata": {},
   "outputs": [
    {
     "name": "stdout",
     "output_type": "stream",
     "text": [
      "              precision    recall  f1-score   support\n",
      "\n",
      "    Cluster0       0.97      0.78      0.86        36\n",
      "    Cluster1       0.95      1.00      0.97        87\n",
      "    Cluster2       0.79      0.92      0.85        12\n",
      "\n",
      "    accuracy                           0.93       135\n",
      "   macro avg       0.90      0.90      0.89       135\n",
      "weighted avg       0.94      0.93      0.93       135\n",
      "\n"
     ]
    }
   ],
   "source": [
    "from sklearn import tree\n",
    "from sklearn import metrics\n",
    "\n",
    "clf = tree.DecisionTreeClassifier()\n",
    "clf = clf.fit(trainObs, trainCls)\n",
    "\n",
    "dt_pred = clf.predict(testObs)\n",
    "\n",
    "print(metrics.classification_report(testCls, dt_pred))"
   ]
  },
  {
   "cell_type": "code",
   "execution_count": 34,
   "metadata": {},
   "outputs": [],
   "source": [
    "tree.export_graphviz(clf, out_file='tree.dot', feature_names=['Pop2010_x','PNHW','PNHB','PNHAI','PNHA','PNHNH','PNHO','PNHT','PHISP','PCTPOP65','PLT18SP'],  \n",
    "                         class_names=['Cluster0','Cluster1','Cluster2'])  "
   ]
  },
  {
   "cell_type": "markdown",
   "metadata": {},
   "source": [
    "with entropy"
   ]
  },
  {
   "cell_type": "code",
   "execution_count": 35,
   "metadata": {},
   "outputs": [
    {
     "name": "stdout",
     "output_type": "stream",
     "text": [
      "              precision    recall  f1-score   support\n",
      "\n",
      "    Cluster0       1.00      0.86      0.93        36\n",
      "    Cluster1       0.98      1.00      0.99        87\n",
      "    Cluster2       0.80      1.00      0.89        12\n",
      "\n",
      "    accuracy                           0.96       135\n",
      "   macro avg       0.93      0.95      0.93       135\n",
      "weighted avg       0.97      0.96      0.96       135\n",
      "\n"
     ]
    }
   ],
   "source": [
    "clf = tree.DecisionTreeClassifier(criterion='entropy')\n",
    "clf = clf.fit(trainObs, trainCls)\n",
    "\n",
    "dt_pred = clf.predict(testObs)\n",
    "\n",
    "print(metrics.classification_report(testCls, dt_pred))"
   ]
  },
  {
   "cell_type": "code",
   "execution_count": 36,
   "metadata": {},
   "outputs": [],
   "source": [
    "tree.export_graphviz(clf, out_file='tree_entropy.dot', feature_names=['Pop2010_x','PNHW','PNHB','PNHAI','PNHA','PNHNH','PNHO','PNHT','PHISP','PCTPOP65','PLT18SP'],  \n",
    "                         class_names=['Cluster0','Cluster1','Cluster2'])  "
   ]
  },
  {
   "cell_type": "code",
   "execution_count": 37,
   "metadata": {},
   "outputs": [],
   "source": [
    "import graphviz\n",
    "from graphviz import Source\n",
    "s1 = Source.from_file('tree.dot')\n",
    "s2 = Source.from_file('tree_entropy.dot')\n",
    "#s1.view()\n",
    "#s2.view()"
   ]
  },
  {
   "cell_type": "markdown",
   "metadata": {},
   "source": [
    "# K-Nearest Neighbors Classifier"
   ]
  },
  {
   "cell_type": "markdown",
   "metadata": {},
   "source": [
    "## find optimal k"
   ]
  },
  {
   "cell_type": "code",
   "execution_count": 38,
   "metadata": {},
   "outputs": [],
   "source": [
    "from sklearn.neighbors import KNeighborsClassifier\n",
    "\n",
    "error = []\n",
    "\n",
    "# Calculating error for K values between 1 and 40\n",
    "for i in range(1, 40):\n",
    "    knn = KNeighborsClassifier(n_neighbors=i)\n",
    "    knn.fit(trainObs, trainCls)\n",
    "    pred_i = knn.predict(testObs)\n",
    "    error.append(np.mean(pred_i != testCls))"
   ]
  },
  {
   "cell_type": "code",
   "execution_count": 39,
   "metadata": {},
   "outputs": [
    {
     "data": {
      "text/plain": [
       "Text(0, 0.5, 'Mean Error')"
      ]
     },
     "execution_count": 39,
     "metadata": {},
     "output_type": "execute_result"
    },
    {
     "data": {
      "image/png": "[encoded data removed]",
      "text/plain": [
       "<Figure size 864x432 with 1 Axes>"
      ]
     },
     "metadata": {
      "needs_background": "light"
     },
     "output_type": "display_data"
    }
   ],
   "source": [
    "plt.figure(figsize=(12, 6))\n",
    "plt.plot(range(1, 40), error, color='red', linestyle='dashed', marker='o',\n",
    "         markerfacecolor='blue', markersize=10)\n",
    "plt.title('Error Rate K Value')\n",
    "plt.xlabel('K Value')\n",
    "plt.ylabel('Mean Error')"
   ]
  },
  {
   "cell_type": "markdown",
   "metadata": {},
   "source": [
    "k = 7 seems best, minimizing mean error"
   ]
  },
  {
   "cell_type": "code",
   "execution_count": 40,
   "metadata": {},
   "outputs": [
    {
     "data": {
      "text/plain": [
       "0.9407407407407408"
      ]
     },
     "execution_count": 40,
     "metadata": {},
     "output_type": "execute_result"
    }
   ],
   "source": [
    "knn = KNeighborsClassifier(n_neighbors=7, weights='distance')\n",
    "\n",
    "knn.fit(trainObs, trainCls)\n",
    "knn_pred = knn.predict(testObs)\n",
    "\n",
    "from __future__ import division\n",
    "(sum(testCls==knn_pred))/len(knn_pred)"
   ]
  },
  {
   "cell_type": "markdown",
   "metadata": {},
   "source": [
    "confusion matrix"
   ]
  },
  {
   "cell_type": "code",
   "execution_count": 41,
   "metadata": {},
   "outputs": [
    {
     "data": {
      "text/plain": [
       "array([[31,  2,  3],\n",
       "       [ 1, 86,  0],\n",
       "       [ 2,  0, 10]], dtype=int64)"
      ]
     },
     "execution_count": 41,
     "metadata": {},
     "output_type": "execute_result"
    }
   ],
   "source": [
    "from sklearn.metrics import confusion_matrix\n",
    "knn_tab = confusion_matrix(testCls, knn_pred, labels=(['Cluster0','Cluster1','Cluster2']))\n",
    "knn_tab"
   ]
  },
  {
   "cell_type": "markdown",
   "metadata": {},
   "source": [
    "classification metrics report"
   ]
  },
  {
   "cell_type": "code",
   "execution_count": 42,
   "metadata": {},
   "outputs": [
    {
     "name": "stdout",
     "output_type": "stream",
     "text": [
      "              precision    recall  f1-score   support\n",
      "\n",
      "    Cluster0       0.91      0.86      0.89        36\n",
      "    Cluster1       0.98      0.99      0.98        87\n",
      "    Cluster2       0.77      0.83      0.80        12\n",
      "\n",
      "    accuracy                           0.94       135\n",
      "   macro avg       0.89      0.89      0.89       135\n",
      "weighted avg       0.94      0.94      0.94       135\n",
      "\n"
     ]
    }
   ],
   "source": [
    "from sklearn import metrics\n",
    "print(metrics.classification_report(testCls, knn_pred))"
   ]
  },
  {
   "cell_type": "markdown",
   "metadata": {},
   "source": [
    "## Naive Bayes Classifier"
   ]
  },
  {
   "cell_type": "code",
   "execution_count": 43,
   "metadata": {},
   "outputs": [],
   "source": [
    "from sklearn.naive_bayes import GaussianNB\n",
    "gnb = GaussianNB()\n",
    "gnb = gnb.fit(trainObs, trainCls)"
   ]
  },
  {
   "cell_type": "code",
   "execution_count": 44,
   "metadata": {},
   "outputs": [
    {
     "name": "stdout",
     "output_type": "stream",
     "text": [
      "              precision    recall  f1-score   support\n",
      "\n",
      "    Cluster0       0.83      0.83      0.83        36\n",
      "    Cluster1       0.98      0.94      0.96        87\n",
      "    Cluster2       0.73      0.92      0.81        12\n",
      "\n",
      "    accuracy                           0.91       135\n",
      "   macro avg       0.85      0.90      0.87       135\n",
      "weighted avg       0.92      0.91      0.91       135\n",
      "\n"
     ]
    }
   ],
   "source": [
    "nb_pred = gnb.predict(testObs)\n",
    "\n",
    "print(metrics.classification_report(testCls, nb_pred))"
   ]
  },
  {
   "cell_type": "markdown",
   "metadata": {},
   "source": [
    "# Random Forest Classifier"
   ]
  },
  {
   "cell_type": "markdown",
   "metadata": {},
   "source": [
    "## 10 trees"
   ]
  },
  {
   "cell_type": "code",
   "execution_count": 45,
   "metadata": {},
   "outputs": [],
   "source": [
    "from sklearn.ensemble import RandomForestClassifier\n",
    "clf = RandomForestClassifier(n_estimators=10)\n",
    "clf = clf.fit(trainObs, trainCls)"
   ]
  },
  {
   "cell_type": "code",
   "execution_count": 46,
   "metadata": {},
   "outputs": [
    {
     "name": "stdout",
     "output_type": "stream",
     "text": [
      "              precision    recall  f1-score   support\n",
      "\n",
      "    Cluster0       1.00      0.86      0.93        36\n",
      "    Cluster1       0.96      1.00      0.98        87\n",
      "    Cluster2       0.92      1.00      0.96        12\n",
      "\n",
      "    accuracy                           0.96       135\n",
      "   macro avg       0.96      0.95      0.95       135\n",
      "weighted avg       0.96      0.96      0.96       135\n",
      "\n"
     ]
    }
   ],
   "source": [
    "rf_pred = clf.predict(testObs)\n",
    "\n",
    "print(metrics.classification_report(testCls, rf_pred))"
   ]
  },
  {
   "cell_type": "markdown",
   "metadata": {},
   "source": [
    "## 100 trees"
   ]
  },
  {
   "cell_type": "code",
   "execution_count": 47,
   "metadata": {},
   "outputs": [
    {
     "name": "stdout",
     "output_type": "stream",
     "text": [
      "              precision    recall  f1-score   support\n",
      "\n",
      "    Cluster0       0.94      0.89      0.91        36\n",
      "    Cluster1       0.97      1.00      0.98        87\n",
      "    Cluster2       0.91      0.83      0.87        12\n",
      "\n",
      "    accuracy                           0.96       135\n",
      "   macro avg       0.94      0.91      0.92       135\n",
      "weighted avg       0.95      0.96      0.95       135\n",
      "\n"
     ]
    }
   ],
   "source": [
    "clf = RandomForestClassifier(n_estimators=100)\n",
    "clf = clf.fit(trainObs, trainCls)\n",
    "\n",
    "rf_pred = clf.predict(testObs)\n",
    "\n",
    "print(metrics.classification_report(testCls, rf_pred))"
   ]
  },
  {
   "cell_type": "markdown",
   "metadata": {},
   "source": [
    "## 1000 trees"
   ]
  },
  {
   "cell_type": "code",
   "execution_count": 48,
   "metadata": {},
   "outputs": [
    {
     "name": "stdout",
     "output_type": "stream",
     "text": [
      "              precision    recall  f1-score   support\n",
      "\n",
      "    Cluster0       0.94      0.89      0.91        36\n",
      "    Cluster1       0.97      1.00      0.98        87\n",
      "    Cluster2       0.91      0.83      0.87        12\n",
      "\n",
      "    accuracy                           0.96       135\n",
      "   macro avg       0.94      0.91      0.92       135\n",
      "weighted avg       0.95      0.96      0.95       135\n",
      "\n"
     ]
    }
   ],
   "source": [
    "clf = RandomForestClassifier(n_estimators=1000)\n",
    "clf = clf.fit(trainObs, trainCls)\n",
    "\n",
    "rf_pred = clf.predict(testObs)\n",
    "\n",
    "print(metrics.classification_report(testCls, rf_pred))"
   ]
  },
  {
   "cell_type": "markdown",
   "metadata": {},
   "source": [
    "## 10000 trees"
   ]
  },
  {
   "cell_type": "code",
   "execution_count": 49,
   "metadata": {},
   "outputs": [
    {
     "name": "stdout",
     "output_type": "stream",
     "text": [
      "              precision    recall  f1-score   support\n",
      "\n",
      "    Cluster0       0.94      0.89      0.91        36\n",
      "    Cluster1       0.97      1.00      0.98        87\n",
      "    Cluster2       0.91      0.83      0.87        12\n",
      "\n",
      "    accuracy                           0.96       135\n",
      "   macro avg       0.94      0.91      0.92       135\n",
      "weighted avg       0.95      0.96      0.95       135\n",
      "\n"
     ]
    }
   ],
   "source": [
    "clf = RandomForestClassifier(n_estimators=10000)\n",
    "clf = clf.fit(trainObs, trainCls)\n",
    "\n",
    "rf_pred = clf.predict(testObs)\n",
    "\n",
    "print(metrics.classification_report(testCls, rf_pred))"
   ]
  },
  {
   "cell_type": "code",
   "execution_count": null,
   "metadata": {},
   "outputs": [],
   "source": []
  }
 ],
 "metadata": {
  "kernelspec": {
   "display_name": "Python 3",
   "language": "python",
   "name": "python3"
  },
  "language_info": {
   "codemirror_mode": {
    "name": "ipython",
    "version": 3
   },
   "file_extension": ".py",
   "mimetype": "text/x-python",
   "name": "python",
   "nbconvert_exporter": "python",
   "pygments_lexer": "ipython3",
   "version": "3.8.5"
  }
 },
 "nbformat": 4,
 "nbformat_minor": 4
}
